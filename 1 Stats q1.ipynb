{
 "cells": [
  {
   "cell_type": "markdown",
   "metadata": {},
   "source": [
    "### Q-1. A university wants to understand the relationship between the SAT scores of its applicants and their college GPA. They collect data on 500 students, including their SAT scores (out of 1600) and their college GPA (on a 4.0 scale). They find that the correlation coefficient between SAT scores and college GPA is 0.7. What does this correlation coefficient indicate about the relationship between SAT scores and college GPA?"
   ]
  },
  {
   "cell_type": "markdown",
   "metadata": {},
   "source": [
    "### ANS"
   ]
  },
  {
   "cell_type": "markdown",
   "metadata": {},
   "source": [
    "Positive Correlation :- 0.7 number shows that there is a strong and positive relation b/w GPA and SAT                         scores. That means GPA and SAT is associated with each other in a positive                             manner. which means If the SAT score increases, The GPA will increase as well.                         and vice-versa.\n",
    "\n",
    "Strong Relation :- Correlation basicaally varies b/w -1 to +1 value. which means values near -1 shows                    strongly negative correlation. whilst the values near +1 shows the strongly                            positive correlation.\n",
    "                   being 0.7 this correlation hold a strong positive relation between SAT score and                      GPA.\n",
    "                   \n",
    "Directionality:-   Since the correlation coefficient is positive, it implies that higher SAT scores                      are associated with higher college GPAs. However, it's important to note that                          correlation does not imply causation. The relationship between SAT scores and                          college GPA could be influenced by various other factors, and the SAT scores alone                    may not be the sole determinant of college success.\n",
    "    "
   ]
  },
  {
   "cell_type": "code",
   "execution_count": null,
   "metadata": {},
   "outputs": [],
   "source": []
  }
 ],
 "metadata": {
  "kernelspec": {
   "display_name": "Python 3",
   "language": "python",
   "name": "python3"
  },
  "language_info": {
   "codemirror_mode": {
    "name": "ipython",
    "version": 3
   },
   "file_extension": ".py",
   "mimetype": "text/x-python",
   "name": "python",
   "nbconvert_exporter": "python",
   "pygments_lexer": "ipython3",
   "version": "3.8.3"
  }
 },
 "nbformat": 4,
 "nbformat_minor": 4
}
