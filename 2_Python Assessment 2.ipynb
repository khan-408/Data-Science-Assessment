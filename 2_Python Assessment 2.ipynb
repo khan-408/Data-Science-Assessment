{
 "cells": [
  {
   "cell_type": "code",
   "execution_count": null,
   "metadata": {},
   "outputs": [],
   "source": [
    "# Question 2: -\n",
    "# Consider a string to be valid if all characters of the string appear the same number of times.\n",
    "# It is also valid if\n",
    "# he can remove just one character at the index in the string, and the remaining characters\n",
    "# will occur the same\n",
    "# number of times. Given a string, determine if it is valid. If so, return YES , otherwise return NO .\n",
    "\n",
    "# Note - You have to write at least 2 additional test cases in which your program will run \n",
    "# successfully and provide\n",
    "# an explanation for the same.\n",
    "\n",
    "\n",
    "# Example input 1 - s = “abc”. This is a valid string because frequencies are { “a”: 1, “b”: 1, “c”: 1 }\n",
    "\n",
    "# Example output 1- YES\n",
    "# Example input 2 - s “abcc”. This string is not valid as we can remove only 1 occurrence of “c”.\n",
    "# That leaves\n",
    "# character frequencies of { “a”: 1, “b”: 1 , “c”: 2 }\n",
    "# Example output 2 - NO"
   ]
  },
  {
   "cell_type": "code",
   "execution_count": 142,
   "metadata": {},
   "outputs": [],
   "source": [
    "from collections import Counter\n",
    "\n",
    "def isValidString(s):\n",
    "    char_count = Counter(s) # Count the frequency of each character    \n",
    "    freq_count = Counter(char_count.values())  # Count the frequency of frequencies\n",
    "    \n",
    "    \n",
    "    most_common_freq = freq_count.most_common(1)[0][0]  # Find the most common frequency\n",
    "    for freq in freq_count:\n",
    "        if freq == most_common_freq:\n",
    "            continue\n",
    "        return \"NO\"\n",
    "\n",
    "    return \"YES\"\n"
   ]
  },
  {
   "cell_type": "code",
   "execution_count": 143,
   "metadata": {},
   "outputs": [
    {
     "data": {
      "text/plain": [
       "'YES'"
      ]
     },
     "execution_count": 143,
     "metadata": {},
     "output_type": "execute_result"
    }
   ],
   "source": [
    "isValidString('abc')"
   ]
  },
  {
   "cell_type": "code",
   "execution_count": 144,
   "metadata": {},
   "outputs": [
    {
     "data": {
      "text/plain": [
       "'NO'"
      ]
     },
     "execution_count": 144,
     "metadata": {},
     "output_type": "execute_result"
    }
   ],
   "source": [
    "isValidString('asfu hdshuvh gvdddgyd')"
   ]
  },
  {
   "cell_type": "code",
   "execution_count": 145,
   "metadata": {},
   "outputs": [
    {
     "data": {
      "text/plain": [
       "'YES'"
      ]
     },
     "execution_count": 145,
     "metadata": {},
     "output_type": "execute_result"
    }
   ],
   "source": [
    "isValidString('su hdsuvh gvgd')"
   ]
  },
  {
   "cell_type": "code",
   "execution_count": 146,
   "metadata": {},
   "outputs": [
    {
     "data": {
      "text/plain": [
       "'NO'"
      ]
     },
     "execution_count": 146,
     "metadata": {},
     "output_type": "execute_result"
    }
   ],
   "source": [
    "isValidString('abvcc')"
   ]
  },
  {
   "cell_type": "code",
   "execution_count": null,
   "metadata": {},
   "outputs": [],
   "source": []
  },
  {
   "cell_type": "code",
   "execution_count": null,
   "metadata": {},
   "outputs": [],
   "source": []
  },
  {
   "cell_type": "code",
   "execution_count": null,
   "metadata": {},
   "outputs": [],
   "source": []
  }
 ],
 "metadata": {
  "kernelspec": {
   "display_name": "Python 3",
   "language": "python",
   "name": "python3"
  },
  "language_info": {
   "codemirror_mode": {
    "name": "ipython",
    "version": 3
   },
   "file_extension": ".py",
   "mimetype": "text/x-python",
   "name": "python",
   "nbconvert_exporter": "python",
   "pygments_lexer": "ipython3",
   "version": "3.8.3"
  }
 },
 "nbformat": 4,
 "nbformat_minor": 4
}
