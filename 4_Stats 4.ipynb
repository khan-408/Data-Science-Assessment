{
 "cells": [
  {
   "cell_type": "markdown",
   "metadata": {},
   "source": [
    "## Q-4. A group of 20 friends decide to play a game in which they each write a number between 1 and 20 on a slip of paper and put it into a hat. They then draw one slip of paper  at random. What is the probability that the number on the slip of paper is a perfect square (i.e., 1, 4, 9, or 16)?"
   ]
  },
  {
   "cell_type": "markdown",
   "metadata": {},
   "source": [
    "There can be two solution of this problem aaccording to the constraint and rules."
   ]
  },
  {
   "cell_type": "code",
   "execution_count": 1,
   "metadata": {},
   "outputs": [
    {
     "name": "stdout",
     "output_type": "stream",
     "text": [
      "Probability is: 20.0%\n"
     ]
    }
   ],
   "source": [
    "# In case : If no 1-20 would be distinct on every slip.\n",
    "# like if students write any distinct no. between 1-20 without repeatation.\n",
    "\n",
    "favourable_outcomes = 4\n",
    "total_outcomes = 20\n",
    "\n",
    "probability = (favourable_outcomes/total_outcomes)*100\n",
    "print(f'Probability is: {probability}%')"
   ]
  },
  {
   "cell_type": "code",
   "execution_count": 2,
   "metadata": {},
   "outputs": [
    {
     "name": "stdout",
     "output_type": "stream",
     "text": [
      "Probability is: 1.0%\n"
     ]
    }
   ],
   "source": [
    "# In case : If no 1-20 is not bounded to be distinct on every slip.\n",
    "# like if students can write any no. between 1-20 regardless of repeatation.\n",
    "\n",
    "favourable_outcomes = 4\n",
    "total_outcomes = 20*20\n",
    "\n",
    "# as there are 20 students and can write any no. between 1-20\n",
    "\n",
    "probability = (favourable_outcomes/total_outcomes)*100\n",
    "print(f'Probability is: {probability}%')"
   ]
  },
  {
   "cell_type": "code",
   "execution_count": null,
   "metadata": {},
   "outputs": [],
   "source": []
  }
 ],
 "metadata": {
  "kernelspec": {
   "display_name": "Python 3",
   "language": "python",
   "name": "python3"
  },
  "language_info": {
   "codemirror_mode": {
    "name": "ipython",
    "version": 3
   },
   "file_extension": ".py",
   "mimetype": "text/x-python",
   "name": "python",
   "nbconvert_exporter": "python",
   "pygments_lexer": "ipython3",
   "version": "3.8.3"
  }
 },
 "nbformat": 4,
 "nbformat_minor": 4
}
