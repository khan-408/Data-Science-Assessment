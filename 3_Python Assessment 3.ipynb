{
 "cells": [
  {
   "cell_type": "code",
   "execution_count": 1,
   "metadata": {},
   "outputs": [],
   "source": [
    "import warnings\n",
    "warnings.filterwarnings('ignore')"
   ]
  },
  {
   "cell_type": "markdown",
   "metadata": {},
   "source": [
    "Question 3: -\n",
    "Write a program, which would download the data from the provided link, and then read the data and convert\n",
    "that into properly structured data and return it in Excel format.\n",
    "Note - Write comments wherever necessary explaining the code written.\n",
    "\n",
    "Link - https://raw.githubusercontent.com/Biuni/PokemonGO-Pokedex/master/pokedex.json\n",
    "\n",
    "Data Attributes - id: Identification Number - int \n",
    "\n",
    "num: Number of the Pokémon in the official Pokédex - int\n",
    "\n",
    "name: Pokémon name -string\n",
    "\n",
    "img: URL to an image of this Pokémon - string \n",
    "\n",
    "type: Pokémon type -string \n",
    "\n",
    "height: Pokémon height - float\n",
    "\n",
    "● weight: Pokémon weight - float \n",
    "\n",
    "candy: type of candy used to evolve Pokémon or\n",
    "given when transferred - string\n",
    "\n",
    "candy_count: the amount of candies required to evolve\n",
    "- int\n",
    "\n",
    "● egg: Number of kilometers to travel to hatch the egg - float \n",
    "\n",
    "spawn_chance: Percentage of spawn chance (NEW) - float\n",
    "\n",
    "avg_spawns: Number of this pokemon on 10.000 spawns (NEW) - int\n",
    "\n",
    "● spawn_time: Spawns most active at the time on this field. Spawn times are the same for all\n",
    "time zones and are expressed in local time. (NEW) - “minutes: seconds”\n",
    "\n",
    "multipliers:\n",
    "Multiplier of Combat Power (CP) for calculating the CP after evolution See below - list of int\n",
    "\n",
    "weakness: Types of Pokémon this Pokémon is weak to - list of strings next_evolution: Number and Name of successive evolutions of Pokémon - list of dict \n",
    "\n",
    "prev_evolution: Number and Name of previous evolutions of Pokémon - - list of dict"
   ]
  },
  {
   "cell_type": "code",
   "execution_count": 2,
   "metadata": {},
   "outputs": [],
   "source": [
    "import pandas as pd\n",
    "from pandas.io.json import json_normalize\n",
    "df = pd.read_json('https://raw.githubusercontent.com/Biuni/PokemonGO-Pokedex/master/pokedex.json')"
   ]
  },
  {
   "cell_type": "code",
   "execution_count": 3,
   "metadata": {},
   "outputs": [],
   "source": [
    "df = json_normalize(df['pokemon'])"
   ]
  },
  {
   "cell_type": "code",
   "execution_count": 68,
   "metadata": {},
   "outputs": [
    {
     "name": "stdout",
     "output_type": "stream",
     "text": [
      "<class 'pandas.core.frame.DataFrame'>\n",
      "RangeIndex: 151 entries, 0 to 150\n",
      "Data columns (total 17 columns):\n",
      " #   Column          Non-Null Count  Dtype  \n",
      "---  ------          --------------  -----  \n",
      " 0   id              151 non-null    int64  \n",
      " 1   num             151 non-null    int32  \n",
      " 2   name            151 non-null    object \n",
      " 3   img             151 non-null    object \n",
      " 4   type            151 non-null    object \n",
      " 5   height          151 non-null    float64\n",
      " 6   weight          151 non-null    float64\n",
      " 7   candy           151 non-null    object \n",
      " 8   candy_count     151 non-null    int32  \n",
      " 9   egg             151 non-null    float64\n",
      " 10  spawn_chance    151 non-null    float64\n",
      " 11  avg_spawns      151 non-null    int32  \n",
      " 12  spawn_time      151 non-null    object \n",
      " 13  multipliers     70 non-null     object \n",
      " 14  weaknesses      151 non-null    object \n",
      " 15  next_evolution  70 non-null     object \n",
      " 16  prev_evolution  72 non-null     object \n",
      "dtypes: float64(4), int32(3), int64(1), object(9)\n",
      "memory usage: 18.4+ KB\n"
     ]
    }
   ],
   "source": [
    "df.info()\n",
    "\n",
    "# # ● spawn_time: Spawns most active at the time on this field. \n",
    "# Spawn times are the same for all time zones and are expressed\n",
    "# in local time. (NEW) - “minutes: seconds”\n",
    "    \n",
    "# multipliers: Multiplier of Combat Power (CP) for calculating the CP after evolution See below - list of int\n",
    "# #\n",
    "# weakness: Types of Pokémon this Pokémon is weak to - list of strings next_evolution: Number and Name of successive evolutions of Pokémon - list of dict\n",
    "\n",
    "# prev_evolution: Number and Name of previous evolutions of Pokémon - - list of dict"
   ]
  },
  {
   "cell_type": "code",
   "execution_count": 13,
   "metadata": {},
   "outputs": [],
   "source": [
    "df['num'] = df['num'].astype(int)"
   ]
  },
  {
   "cell_type": "code",
   "execution_count": 15,
   "metadata": {},
   "outputs": [],
   "source": [
    "df['name'] =df['name'].astype(str)"
   ]
  },
  {
   "cell_type": "code",
   "execution_count": 20,
   "metadata": {},
   "outputs": [],
   "source": [
    "df['height'] = df['height'].str.split(' ').str[0].astype(float)"
   ]
  },
  {
   "cell_type": "code",
   "execution_count": 24,
   "metadata": {},
   "outputs": [],
   "source": [
    "df['weight'] = df['weight'].str.split(' ').str[0].astype(float)"
   ]
  },
  {
   "cell_type": "code",
   "execution_count": 39,
   "metadata": {},
   "outputs": [
    {
     "data": {
      "text/plain": [
       "0"
      ]
     },
     "execution_count": 39,
     "metadata": {},
     "output_type": "execute_result"
    }
   ],
   "source": [
    "df['candy_count'].fillna(0,inplace=True)\n",
    "df['candy_count'].isnull().sum()"
   ]
  },
  {
   "cell_type": "code",
   "execution_count": 41,
   "metadata": {},
   "outputs": [],
   "source": [
    "df['candy_count'] = df['candy_count'].astype(int)"
   ]
  },
  {
   "cell_type": "code",
   "execution_count": 48,
   "metadata": {},
   "outputs": [
    {
     "data": {
      "text/plain": [
       "Not in Eggs      77\n",
       "5 km             42\n",
       "10 km            17\n",
       "2 km             14\n",
       "Omanyte Candy     1\n",
       "Name: egg, dtype: int64"
      ]
     },
     "execution_count": 48,
     "metadata": {},
     "output_type": "execute_result"
    }
   ],
   "source": [
    "# ● egg: Number of kilometers to travel to hatch the egg - float\n",
    "\n",
    "df['egg'].value_counts()"
   ]
  },
  {
   "cell_type": "code",
   "execution_count": 52,
   "metadata": {},
   "outputs": [],
   "source": [
    "df['egg'] = df['egg'].replace('Not in Eggs', '0 km')\n",
    "df['egg'] = df['egg'].replace('Omanyte Candy', '0 km')"
   ]
  },
  {
   "cell_type": "code",
   "execution_count": 58,
   "metadata": {},
   "outputs": [],
   "source": [
    "df['egg'] = df['egg'].str.split(' ').str[0].astype(float)"
   ]
  },
  {
   "cell_type": "code",
   "execution_count": 65,
   "metadata": {},
   "outputs": [],
   "source": [
    "df['avg_spawns'] = round(df['avg_spawns']).astype(int)"
   ]
  },
  {
   "cell_type": "code",
   "execution_count": 79,
   "metadata": {},
   "outputs": [
    {
     "data": {
      "text/html": [
       "<div>\n",
       "<style scoped>\n",
       "    .dataframe tbody tr th:only-of-type {\n",
       "        vertical-align: middle;\n",
       "    }\n",
       "\n",
       "    .dataframe tbody tr th {\n",
       "        vertical-align: top;\n",
       "    }\n",
       "\n",
       "    .dataframe thead th {\n",
       "        text-align: right;\n",
       "    }\n",
       "</style>\n",
       "<table border=\"1\" class=\"dataframe\">\n",
       "  <thead>\n",
       "    <tr style=\"text-align: right;\">\n",
       "      <th></th>\n",
       "      <th>weaknesses</th>\n",
       "      <th>next_evolution</th>\n",
       "      <th>prev_evolution</th>\n",
       "    </tr>\n",
       "  </thead>\n",
       "  <tbody>\n",
       "    <tr>\n",
       "      <th>0</th>\n",
       "      <td>[Fire, Ice, Flying, Psychic]</td>\n",
       "      <td>[{'num': '002', 'name': 'Ivysaur'}, {'num': '0...</td>\n",
       "      <td>NaN</td>\n",
       "    </tr>\n",
       "    <tr>\n",
       "      <th>1</th>\n",
       "      <td>[Fire, Ice, Flying, Psychic]</td>\n",
       "      <td>[{'num': '003', 'name': 'Venusaur'}]</td>\n",
       "      <td>[{'num': '001', 'name': 'Bulbasaur'}]</td>\n",
       "    </tr>\n",
       "    <tr>\n",
       "      <th>2</th>\n",
       "      <td>[Fire, Ice, Flying, Psychic]</td>\n",
       "      <td>NaN</td>\n",
       "      <td>[{'num': '001', 'name': 'Bulbasaur'}, {'num': ...</td>\n",
       "    </tr>\n",
       "    <tr>\n",
       "      <th>3</th>\n",
       "      <td>[Water, Ground, Rock]</td>\n",
       "      <td>[{'num': '005', 'name': 'Charmeleon'}, {'num':...</td>\n",
       "      <td>NaN</td>\n",
       "    </tr>\n",
       "    <tr>\n",
       "      <th>4</th>\n",
       "      <td>[Water, Ground, Rock]</td>\n",
       "      <td>[{'num': '006', 'name': 'Charizard'}]</td>\n",
       "      <td>[{'num': '004', 'name': 'Charmander'}]</td>\n",
       "    </tr>\n",
       "    <tr>\n",
       "      <th>...</th>\n",
       "      <td>...</td>\n",
       "      <td>...</td>\n",
       "      <td>...</td>\n",
       "    </tr>\n",
       "    <tr>\n",
       "      <th>146</th>\n",
       "      <td>[Ice, Dragon, Fairy]</td>\n",
       "      <td>[{'num': '148', 'name': 'Dragonair'}, {'num': ...</td>\n",
       "      <td>NaN</td>\n",
       "    </tr>\n",
       "    <tr>\n",
       "      <th>147</th>\n",
       "      <td>[Ice, Dragon, Fairy]</td>\n",
       "      <td>[{'num': '149', 'name': 'Dragonite'}]</td>\n",
       "      <td>[{'num': '147', 'name': 'Dratini'}]</td>\n",
       "    </tr>\n",
       "    <tr>\n",
       "      <th>148</th>\n",
       "      <td>[Ice, Rock, Dragon, Fairy]</td>\n",
       "      <td>NaN</td>\n",
       "      <td>[{'num': '147', 'name': 'Dratini'}, {'num': '1...</td>\n",
       "    </tr>\n",
       "    <tr>\n",
       "      <th>149</th>\n",
       "      <td>[Bug, Ghost, Dark]</td>\n",
       "      <td>NaN</td>\n",
       "      <td>NaN</td>\n",
       "    </tr>\n",
       "    <tr>\n",
       "      <th>150</th>\n",
       "      <td>[Bug, Ghost, Dark]</td>\n",
       "      <td>NaN</td>\n",
       "      <td>NaN</td>\n",
       "    </tr>\n",
       "  </tbody>\n",
       "</table>\n",
       "<p>151 rows × 3 columns</p>\n",
       "</div>"
      ],
      "text/plain": [
       "                       weaknesses  \\\n",
       "0    [Fire, Ice, Flying, Psychic]   \n",
       "1    [Fire, Ice, Flying, Psychic]   \n",
       "2    [Fire, Ice, Flying, Psychic]   \n",
       "3           [Water, Ground, Rock]   \n",
       "4           [Water, Ground, Rock]   \n",
       "..                            ...   \n",
       "146          [Ice, Dragon, Fairy]   \n",
       "147          [Ice, Dragon, Fairy]   \n",
       "148    [Ice, Rock, Dragon, Fairy]   \n",
       "149            [Bug, Ghost, Dark]   \n",
       "150            [Bug, Ghost, Dark]   \n",
       "\n",
       "                                        next_evolution  \\\n",
       "0    [{'num': '002', 'name': 'Ivysaur'}, {'num': '0...   \n",
       "1                 [{'num': '003', 'name': 'Venusaur'}]   \n",
       "2                                                  NaN   \n",
       "3    [{'num': '005', 'name': 'Charmeleon'}, {'num':...   \n",
       "4                [{'num': '006', 'name': 'Charizard'}]   \n",
       "..                                                 ...   \n",
       "146  [{'num': '148', 'name': 'Dragonair'}, {'num': ...   \n",
       "147              [{'num': '149', 'name': 'Dragonite'}]   \n",
       "148                                                NaN   \n",
       "149                                                NaN   \n",
       "150                                                NaN   \n",
       "\n",
       "                                        prev_evolution  \n",
       "0                                                  NaN  \n",
       "1                [{'num': '001', 'name': 'Bulbasaur'}]  \n",
       "2    [{'num': '001', 'name': 'Bulbasaur'}, {'num': ...  \n",
       "3                                                  NaN  \n",
       "4               [{'num': '004', 'name': 'Charmander'}]  \n",
       "..                                                 ...  \n",
       "146                                                NaN  \n",
       "147                [{'num': '147', 'name': 'Dratini'}]  \n",
       "148  [{'num': '147', 'name': 'Dratini'}, {'num': '1...  \n",
       "149                                                NaN  \n",
       "150                                                NaN  \n",
       "\n",
       "[151 rows x 3 columns]"
      ]
     },
     "execution_count": 79,
     "metadata": {},
     "output_type": "execute_result"
    }
   ],
   "source": [
    "df[['weaknesses','next_evolution','prev_evolution']]"
   ]
  },
  {
   "cell_type": "code",
   "execution_count": 80,
   "metadata": {},
   "outputs": [],
   "source": [
    "df.to_excel('pokemon.xls',index=False,header=True)"
   ]
  },
  {
   "cell_type": "code",
   "execution_count": 81,
   "metadata": {},
   "outputs": [],
   "source": [
    "df2 = pd.read_excel('pokemon.xls')"
   ]
  },
  {
   "cell_type": "code",
   "execution_count": 82,
   "metadata": {},
   "outputs": [
    {
     "data": {
      "text/html": [
       "<div>\n",
       "<style scoped>\n",
       "    .dataframe tbody tr th:only-of-type {\n",
       "        vertical-align: middle;\n",
       "    }\n",
       "\n",
       "    .dataframe tbody tr th {\n",
       "        vertical-align: top;\n",
       "    }\n",
       "\n",
       "    .dataframe thead th {\n",
       "        text-align: right;\n",
       "    }\n",
       "</style>\n",
       "<table border=\"1\" class=\"dataframe\">\n",
       "  <thead>\n",
       "    <tr style=\"text-align: right;\">\n",
       "      <th></th>\n",
       "      <th>id</th>\n",
       "      <th>num</th>\n",
       "      <th>name</th>\n",
       "      <th>img</th>\n",
       "      <th>type</th>\n",
       "      <th>height</th>\n",
       "      <th>weight</th>\n",
       "      <th>candy</th>\n",
       "      <th>candy_count</th>\n",
       "      <th>egg</th>\n",
       "      <th>spawn_chance</th>\n",
       "      <th>avg_spawns</th>\n",
       "      <th>spawn_time</th>\n",
       "      <th>multipliers</th>\n",
       "      <th>weaknesses</th>\n",
       "      <th>next_evolution</th>\n",
       "      <th>prev_evolution</th>\n",
       "    </tr>\n",
       "  </thead>\n",
       "  <tbody>\n",
       "    <tr>\n",
       "      <th>0</th>\n",
       "      <td>1</td>\n",
       "      <td>1</td>\n",
       "      <td>Bulbasaur</td>\n",
       "      <td>http://www.serebii.net/pokemongo/pokemon/001.png</td>\n",
       "      <td>['Grass', 'Poison']</td>\n",
       "      <td>0.71</td>\n",
       "      <td>6.9</td>\n",
       "      <td>Bulbasaur Candy</td>\n",
       "      <td>25</td>\n",
       "      <td>2</td>\n",
       "      <td>0.69</td>\n",
       "      <td>69</td>\n",
       "      <td>20:00</td>\n",
       "      <td>[1.58]</td>\n",
       "      <td>['Fire', 'Ice', 'Flying', 'Psychic']</td>\n",
       "      <td>[{'num': '002', 'name': 'Ivysaur'}, {'num': '0...</td>\n",
       "      <td>NaN</td>\n",
       "    </tr>\n",
       "  </tbody>\n",
       "</table>\n",
       "</div>"
      ],
      "text/plain": [
       "   id  num       name                                               img  \\\n",
       "0   1    1  Bulbasaur  http://www.serebii.net/pokemongo/pokemon/001.png   \n",
       "\n",
       "                  type  height  weight            candy  candy_count  egg  \\\n",
       "0  ['Grass', 'Poison']    0.71     6.9  Bulbasaur Candy           25    2   \n",
       "\n",
       "   spawn_chance  avg_spawns spawn_time multipliers  \\\n",
       "0          0.69          69      20:00      [1.58]   \n",
       "\n",
       "                             weaknesses  \\\n",
       "0  ['Fire', 'Ice', 'Flying', 'Psychic']   \n",
       "\n",
       "                                      next_evolution prev_evolution  \n",
       "0  [{'num': '002', 'name': 'Ivysaur'}, {'num': '0...            NaN  "
      ]
     },
     "execution_count": 82,
     "metadata": {},
     "output_type": "execute_result"
    }
   ],
   "source": [
    "df2.head(1)"
   ]
  },
  {
   "cell_type": "code",
   "execution_count": 83,
   "metadata": {},
   "outputs": [
    {
     "name": "stdout",
     "output_type": "stream",
     "text": [
      "<class 'pandas.core.frame.DataFrame'>\n",
      "RangeIndex: 151 entries, 0 to 150\n",
      "Data columns (total 17 columns):\n",
      " #   Column          Non-Null Count  Dtype  \n",
      "---  ------          --------------  -----  \n",
      " 0   id              151 non-null    int64  \n",
      " 1   num             151 non-null    int32  \n",
      " 2   name            151 non-null    object \n",
      " 3   img             151 non-null    object \n",
      " 4   type            151 non-null    object \n",
      " 5   height          151 non-null    float64\n",
      " 6   weight          151 non-null    float64\n",
      " 7   candy           151 non-null    object \n",
      " 8   candy_count     151 non-null    int32  \n",
      " 9   egg             151 non-null    float64\n",
      " 10  spawn_chance    151 non-null    float64\n",
      " 11  avg_spawns      151 non-null    int32  \n",
      " 12  spawn_time      151 non-null    object \n",
      " 13  multipliers     70 non-null     object \n",
      " 14  weaknesses      151 non-null    object \n",
      " 15  next_evolution  70 non-null     object \n",
      " 16  prev_evolution  72 non-null     object \n",
      "dtypes: float64(4), int32(3), int64(1), object(9)\n",
      "memory usage: 18.4+ KB\n"
     ]
    }
   ],
   "source": [
    "df.info()"
   ]
  },
  {
   "cell_type": "code",
   "execution_count": 8,
   "metadata": {},
   "outputs": [
    {
     "name": "stdout",
     "output_type": "stream",
     "text": [
      "<class 'pandas.core.frame.DataFrame'>\n",
      "RangeIndex: 151 entries, 0 to 150\n",
      "Data columns (total 17 columns):\n",
      " #   Column          Non-Null Count  Dtype  \n",
      "---  ------          --------------  -----  \n",
      " 0   id              151 non-null    int64  \n",
      " 1   num             151 non-null    int64  \n",
      " 2   name            151 non-null    object \n",
      " 3   img             151 non-null    object \n",
      " 4   type            151 non-null    object \n",
      " 5   height          151 non-null    object \n",
      " 6   weight          151 non-null    object \n",
      " 7   candy           151 non-null    object \n",
      " 8   candy_count     70 non-null     float64\n",
      " 9   egg             151 non-null    object \n",
      " 10  spawn_chance    151 non-null    float64\n",
      " 11  avg_spawns      151 non-null    float64\n",
      " 12  spawn_time      145 non-null    object \n",
      " 13  multipliers     70 non-null     object \n",
      " 14  weaknesses      151 non-null    object \n",
      " 15  next_evolution  70 non-null     object \n",
      " 16  prev_evolution  72 non-null     object \n",
      "dtypes: float64(3), int64(2), object(12)\n",
      "memory usage: 20.2+ KB\n"
     ]
    }
   ],
   "source": [
    "df2.info()"
   ]
  },
  {
   "cell_type": "code",
   "execution_count": null,
   "metadata": {},
   "outputs": [],
   "source": []
  }
 ],
 "metadata": {
  "kernelspec": {
   "display_name": "Python 3",
   "language": "python",
   "name": "python3"
  },
  "language_info": {
   "codemirror_mode": {
    "name": "ipython",
    "version": 3
   },
   "file_extension": ".py",
   "mimetype": "text/x-python",
   "name": "python",
   "nbconvert_exporter": "python",
   "pygments_lexer": "ipython3",
   "version": "3.8.3"
  }
 },
 "nbformat": 4,
 "nbformat_minor": 4
}
