{
 "cells": [
  {
   "cell_type": "markdown",
   "metadata": {},
   "source": [
    "Question 6 -\n",
    "\n",
    "Using the data from Question 3, write code to analyze the data and answer the following questions \n",
    "Note 1.Draw plots to demonstrate the analysis for the following questions for better visualizations.\n",
    "\n",
    "2. Write code comments wherever required for code understanding\n",
    "\n",
    "Insights to be drawn -\n",
    "● Get all Pokemons whose spawn rate is less than 5%\n",
    "\n",
    "● Get all Pokemons that have less than 4 weaknesses\n",
    "\n",
    "● Get all Pokemons that have no multipliers at all\n",
    "\n",
    "● Get all Pokemons that do not have more than 2 evolutions\n",
    "\n",
    "● Get all Pokemons whose spawn time is less than 300 seconds.\n",
    "Note - spawn time format is \"05:32”, so assume “minute: second” format and perform the analysis.\n",
    "\n",
    "● Get all Pokemon who have more than two types of capabilities"
   ]
  },
  {
   "cell_type": "code",
   "execution_count": 51,
   "metadata": {},
   "outputs": [],
   "source": [
    "import pandas as pd\n",
    "import matplotlib.pyplot as plt\n",
    "import ast\n",
    "\n",
    "pokem = pd.read_excel('pokemon.xls')"
   ]
  },
  {
   "cell_type": "code",
   "execution_count": 52,
   "metadata": {},
   "outputs": [
    {
     "data": {
      "text/html": [
       "<div>\n",
       "<style scoped>\n",
       "    .dataframe tbody tr th:only-of-type {\n",
       "        vertical-align: middle;\n",
       "    }\n",
       "\n",
       "    .dataframe tbody tr th {\n",
       "        vertical-align: top;\n",
       "    }\n",
       "\n",
       "    .dataframe thead th {\n",
       "        text-align: right;\n",
       "    }\n",
       "</style>\n",
       "<table border=\"1\" class=\"dataframe\">\n",
       "  <thead>\n",
       "    <tr style=\"text-align: right;\">\n",
       "      <th></th>\n",
       "      <th>id</th>\n",
       "      <th>num</th>\n",
       "      <th>name</th>\n",
       "      <th>img</th>\n",
       "      <th>type</th>\n",
       "      <th>height</th>\n",
       "      <th>weight</th>\n",
       "      <th>candy</th>\n",
       "      <th>candy_count</th>\n",
       "      <th>egg</th>\n",
       "      <th>spawn_chance</th>\n",
       "      <th>avg_spawns</th>\n",
       "      <th>spawn_time</th>\n",
       "      <th>multipliers</th>\n",
       "      <th>weaknesses</th>\n",
       "      <th>next_evolution</th>\n",
       "      <th>prev_evolution</th>\n",
       "    </tr>\n",
       "  </thead>\n",
       "  <tbody>\n",
       "    <tr>\n",
       "      <th>0</th>\n",
       "      <td>1</td>\n",
       "      <td>1</td>\n",
       "      <td>Bulbasaur</td>\n",
       "      <td>http://www.serebii.net/pokemongo/pokemon/001.png</td>\n",
       "      <td>['Grass', 'Poison']</td>\n",
       "      <td>0.71</td>\n",
       "      <td>6.9</td>\n",
       "      <td>Bulbasaur Candy</td>\n",
       "      <td>25</td>\n",
       "      <td>2</td>\n",
       "      <td>0.690</td>\n",
       "      <td>69</td>\n",
       "      <td>20:00</td>\n",
       "      <td>[1.58]</td>\n",
       "      <td>['Fire', 'Ice', 'Flying', 'Psychic']</td>\n",
       "      <td>[{'num': '002', 'name': 'Ivysaur'}, {'num': '0...</td>\n",
       "      <td>NaN</td>\n",
       "    </tr>\n",
       "    <tr>\n",
       "      <th>1</th>\n",
       "      <td>2</td>\n",
       "      <td>2</td>\n",
       "      <td>Ivysaur</td>\n",
       "      <td>http://www.serebii.net/pokemongo/pokemon/002.png</td>\n",
       "      <td>['Grass', 'Poison']</td>\n",
       "      <td>0.99</td>\n",
       "      <td>13.0</td>\n",
       "      <td>Bulbasaur Candy</td>\n",
       "      <td>100</td>\n",
       "      <td>0</td>\n",
       "      <td>0.042</td>\n",
       "      <td>4</td>\n",
       "      <td>07:00</td>\n",
       "      <td>[1.2, 1.6]</td>\n",
       "      <td>['Fire', 'Ice', 'Flying', 'Psychic']</td>\n",
       "      <td>[{'num': '003', 'name': 'Venusaur'}]</td>\n",
       "      <td>[{'num': '001', 'name': 'Bulbasaur'}]</td>\n",
       "    </tr>\n",
       "    <tr>\n",
       "      <th>2</th>\n",
       "      <td>3</td>\n",
       "      <td>3</td>\n",
       "      <td>Venusaur</td>\n",
       "      <td>http://www.serebii.net/pokemongo/pokemon/003.png</td>\n",
       "      <td>['Grass', 'Poison']</td>\n",
       "      <td>2.01</td>\n",
       "      <td>100.0</td>\n",
       "      <td>Bulbasaur Candy</td>\n",
       "      <td>0</td>\n",
       "      <td>0</td>\n",
       "      <td>0.017</td>\n",
       "      <td>2</td>\n",
       "      <td>11:30</td>\n",
       "      <td>NaN</td>\n",
       "      <td>['Fire', 'Ice', 'Flying', 'Psychic']</td>\n",
       "      <td>NaN</td>\n",
       "      <td>[{'num': '001', 'name': 'Bulbasaur'}, {'num': ...</td>\n",
       "    </tr>\n",
       "    <tr>\n",
       "      <th>3</th>\n",
       "      <td>4</td>\n",
       "      <td>4</td>\n",
       "      <td>Charmander</td>\n",
       "      <td>http://www.serebii.net/pokemongo/pokemon/004.png</td>\n",
       "      <td>['Fire']</td>\n",
       "      <td>0.61</td>\n",
       "      <td>8.5</td>\n",
       "      <td>Charmander Candy</td>\n",
       "      <td>25</td>\n",
       "      <td>2</td>\n",
       "      <td>0.253</td>\n",
       "      <td>25</td>\n",
       "      <td>08:45</td>\n",
       "      <td>[1.65]</td>\n",
       "      <td>['Water', 'Ground', 'Rock']</td>\n",
       "      <td>[{'num': '005', 'name': 'Charmeleon'}, {'num':...</td>\n",
       "      <td>NaN</td>\n",
       "    </tr>\n",
       "    <tr>\n",
       "      <th>4</th>\n",
       "      <td>5</td>\n",
       "      <td>5</td>\n",
       "      <td>Charmeleon</td>\n",
       "      <td>http://www.serebii.net/pokemongo/pokemon/005.png</td>\n",
       "      <td>['Fire']</td>\n",
       "      <td>1.09</td>\n",
       "      <td>19.0</td>\n",
       "      <td>Charmander Candy</td>\n",
       "      <td>100</td>\n",
       "      <td>0</td>\n",
       "      <td>0.012</td>\n",
       "      <td>1</td>\n",
       "      <td>19:00</td>\n",
       "      <td>[1.79]</td>\n",
       "      <td>['Water', 'Ground', 'Rock']</td>\n",
       "      <td>[{'num': '006', 'name': 'Charizard'}]</td>\n",
       "      <td>[{'num': '004', 'name': 'Charmander'}]</td>\n",
       "    </tr>\n",
       "  </tbody>\n",
       "</table>\n",
       "</div>"
      ],
      "text/plain": [
       "   id  num        name                                               img  \\\n",
       "0   1    1   Bulbasaur  http://www.serebii.net/pokemongo/pokemon/001.png   \n",
       "1   2    2     Ivysaur  http://www.serebii.net/pokemongo/pokemon/002.png   \n",
       "2   3    3    Venusaur  http://www.serebii.net/pokemongo/pokemon/003.png   \n",
       "3   4    4  Charmander  http://www.serebii.net/pokemongo/pokemon/004.png   \n",
       "4   5    5  Charmeleon  http://www.serebii.net/pokemongo/pokemon/005.png   \n",
       "\n",
       "                  type  height  weight             candy  candy_count  egg  \\\n",
       "0  ['Grass', 'Poison']    0.71     6.9   Bulbasaur Candy           25    2   \n",
       "1  ['Grass', 'Poison']    0.99    13.0   Bulbasaur Candy          100    0   \n",
       "2  ['Grass', 'Poison']    2.01   100.0   Bulbasaur Candy            0    0   \n",
       "3             ['Fire']    0.61     8.5  Charmander Candy           25    2   \n",
       "4             ['Fire']    1.09    19.0  Charmander Candy          100    0   \n",
       "\n",
       "   spawn_chance  avg_spawns spawn_time multipliers  \\\n",
       "0         0.690          69      20:00      [1.58]   \n",
       "1         0.042           4      07:00  [1.2, 1.6]   \n",
       "2         0.017           2      11:30         NaN   \n",
       "3         0.253          25      08:45      [1.65]   \n",
       "4         0.012           1      19:00      [1.79]   \n",
       "\n",
       "                             weaknesses  \\\n",
       "0  ['Fire', 'Ice', 'Flying', 'Psychic']   \n",
       "1  ['Fire', 'Ice', 'Flying', 'Psychic']   \n",
       "2  ['Fire', 'Ice', 'Flying', 'Psychic']   \n",
       "3           ['Water', 'Ground', 'Rock']   \n",
       "4           ['Water', 'Ground', 'Rock']   \n",
       "\n",
       "                                      next_evolution  \\\n",
       "0  [{'num': '002', 'name': 'Ivysaur'}, {'num': '0...   \n",
       "1               [{'num': '003', 'name': 'Venusaur'}]   \n",
       "2                                                NaN   \n",
       "3  [{'num': '005', 'name': 'Charmeleon'}, {'num':...   \n",
       "4              [{'num': '006', 'name': 'Charizard'}]   \n",
       "\n",
       "                                      prev_evolution  \n",
       "0                                                NaN  \n",
       "1              [{'num': '001', 'name': 'Bulbasaur'}]  \n",
       "2  [{'num': '001', 'name': 'Bulbasaur'}, {'num': ...  \n",
       "3                                                NaN  \n",
       "4             [{'num': '004', 'name': 'Charmander'}]  "
      ]
     },
     "execution_count": 52,
     "metadata": {},
     "output_type": "execute_result"
    }
   ],
   "source": [
    "pokem.head()"
   ]
  },
  {
   "cell_type": "markdown",
   "metadata": {},
   "source": [
    "####  ● Get all Pokemons whose spawn rate is less than 5%"
   ]
  },
  {
   "cell_type": "code",
   "execution_count": 53,
   "metadata": {},
   "outputs": [
    {
     "data": {
      "text/html": [
       "<div>\n",
       "<style scoped>\n",
       "    .dataframe tbody tr th:only-of-type {\n",
       "        vertical-align: middle;\n",
       "    }\n",
       "\n",
       "    .dataframe tbody tr th {\n",
       "        vertical-align: top;\n",
       "    }\n",
       "\n",
       "    .dataframe thead th {\n",
       "        text-align: right;\n",
       "    }\n",
       "</style>\n",
       "<table border=\"1\" class=\"dataframe\">\n",
       "  <thead>\n",
       "    <tr style=\"text-align: right;\">\n",
       "      <th></th>\n",
       "      <th>id</th>\n",
       "      <th>num</th>\n",
       "      <th>name</th>\n",
       "      <th>img</th>\n",
       "      <th>type</th>\n",
       "      <th>height</th>\n",
       "      <th>weight</th>\n",
       "      <th>candy</th>\n",
       "      <th>candy_count</th>\n",
       "      <th>egg</th>\n",
       "      <th>spawn_chance</th>\n",
       "      <th>avg_spawns</th>\n",
       "      <th>spawn_time</th>\n",
       "      <th>multipliers</th>\n",
       "      <th>weaknesses</th>\n",
       "      <th>next_evolution</th>\n",
       "      <th>prev_evolution</th>\n",
       "    </tr>\n",
       "  </thead>\n",
       "  <tbody>\n",
       "    <tr>\n",
       "      <th>1</th>\n",
       "      <td>2</td>\n",
       "      <td>2</td>\n",
       "      <td>Ivysaur</td>\n",
       "      <td>http://www.serebii.net/pokemongo/pokemon/002.png</td>\n",
       "      <td>['Grass', 'Poison']</td>\n",
       "      <td>0.99</td>\n",
       "      <td>13.0</td>\n",
       "      <td>Bulbasaur Candy</td>\n",
       "      <td>100</td>\n",
       "      <td>0</td>\n",
       "      <td>0.0420</td>\n",
       "      <td>4</td>\n",
       "      <td>07:00</td>\n",
       "      <td>[1.2, 1.6]</td>\n",
       "      <td>['Fire', 'Ice', 'Flying', 'Psychic']</td>\n",
       "      <td>[{'num': '003', 'name': 'Venusaur'}]</td>\n",
       "      <td>[{'num': '001', 'name': 'Bulbasaur'}]</td>\n",
       "    </tr>\n",
       "    <tr>\n",
       "      <th>2</th>\n",
       "      <td>3</td>\n",
       "      <td>3</td>\n",
       "      <td>Venusaur</td>\n",
       "      <td>http://www.serebii.net/pokemongo/pokemon/003.png</td>\n",
       "      <td>['Grass', 'Poison']</td>\n",
       "      <td>2.01</td>\n",
       "      <td>100.0</td>\n",
       "      <td>Bulbasaur Candy</td>\n",
       "      <td>0</td>\n",
       "      <td>0</td>\n",
       "      <td>0.0170</td>\n",
       "      <td>2</td>\n",
       "      <td>11:30</td>\n",
       "      <td>NaN</td>\n",
       "      <td>['Fire', 'Ice', 'Flying', 'Psychic']</td>\n",
       "      <td>NaN</td>\n",
       "      <td>[{'num': '001', 'name': 'Bulbasaur'}, {'num': ...</td>\n",
       "    </tr>\n",
       "    <tr>\n",
       "      <th>4</th>\n",
       "      <td>5</td>\n",
       "      <td>5</td>\n",
       "      <td>Charmeleon</td>\n",
       "      <td>http://www.serebii.net/pokemongo/pokemon/005.png</td>\n",
       "      <td>['Fire']</td>\n",
       "      <td>1.09</td>\n",
       "      <td>19.0</td>\n",
       "      <td>Charmander Candy</td>\n",
       "      <td>100</td>\n",
       "      <td>0</td>\n",
       "      <td>0.0120</td>\n",
       "      <td>1</td>\n",
       "      <td>19:00</td>\n",
       "      <td>[1.79]</td>\n",
       "      <td>['Water', 'Ground', 'Rock']</td>\n",
       "      <td>[{'num': '006', 'name': 'Charizard'}]</td>\n",
       "      <td>[{'num': '004', 'name': 'Charmander'}]</td>\n",
       "    </tr>\n",
       "    <tr>\n",
       "      <th>5</th>\n",
       "      <td>6</td>\n",
       "      <td>6</td>\n",
       "      <td>Charizard</td>\n",
       "      <td>http://www.serebii.net/pokemongo/pokemon/006.png</td>\n",
       "      <td>['Fire', 'Flying']</td>\n",
       "      <td>1.70</td>\n",
       "      <td>90.5</td>\n",
       "      <td>Charmander Candy</td>\n",
       "      <td>0</td>\n",
       "      <td>0</td>\n",
       "      <td>0.0031</td>\n",
       "      <td>0</td>\n",
       "      <td>13:34</td>\n",
       "      <td>NaN</td>\n",
       "      <td>['Water', 'Electric', 'Rock']</td>\n",
       "      <td>NaN</td>\n",
       "      <td>[{'num': '004', 'name': 'Charmander'}, {'num':...</td>\n",
       "    </tr>\n",
       "    <tr>\n",
       "      <th>7</th>\n",
       "      <td>8</td>\n",
       "      <td>8</td>\n",
       "      <td>Wartortle</td>\n",
       "      <td>http://www.serebii.net/pokemongo/pokemon/008.png</td>\n",
       "      <td>['Water']</td>\n",
       "      <td>0.99</td>\n",
       "      <td>22.5</td>\n",
       "      <td>Squirtle Candy</td>\n",
       "      <td>100</td>\n",
       "      <td>0</td>\n",
       "      <td>0.0340</td>\n",
       "      <td>3</td>\n",
       "      <td>07:02</td>\n",
       "      <td>[1.4]</td>\n",
       "      <td>['Electric', 'Grass']</td>\n",
       "      <td>[{'num': '009', 'name': 'Blastoise'}]</td>\n",
       "      <td>[{'num': '007', 'name': 'Squirtle'}]</td>\n",
       "    </tr>\n",
       "    <tr>\n",
       "      <th>...</th>\n",
       "      <td>...</td>\n",
       "      <td>...</td>\n",
       "      <td>...</td>\n",
       "      <td>...</td>\n",
       "      <td>...</td>\n",
       "      <td>...</td>\n",
       "      <td>...</td>\n",
       "      <td>...</td>\n",
       "      <td>...</td>\n",
       "      <td>...</td>\n",
       "      <td>...</td>\n",
       "      <td>...</td>\n",
       "      <td>...</td>\n",
       "      <td>...</td>\n",
       "      <td>...</td>\n",
       "      <td>...</td>\n",
       "      <td>...</td>\n",
       "    </tr>\n",
       "    <tr>\n",
       "      <th>145</th>\n",
       "      <td>146</td>\n",
       "      <td>146</td>\n",
       "      <td>Moltres</td>\n",
       "      <td>http://www.serebii.net/pokemongo/pokemon/146.png</td>\n",
       "      <td>['Fire', 'Flying']</td>\n",
       "      <td>2.01</td>\n",
       "      <td>60.0</td>\n",
       "      <td>None</td>\n",
       "      <td>0</td>\n",
       "      <td>0</td>\n",
       "      <td>0.0000</td>\n",
       "      <td>0</td>\n",
       "      <td>NaN</td>\n",
       "      <td>NaN</td>\n",
       "      <td>['Water', 'Electric', 'Rock']</td>\n",
       "      <td>NaN</td>\n",
       "      <td>NaN</td>\n",
       "    </tr>\n",
       "    <tr>\n",
       "      <th>147</th>\n",
       "      <td>148</td>\n",
       "      <td>148</td>\n",
       "      <td>Dragonair</td>\n",
       "      <td>http://www.serebii.net/pokemongo/pokemon/148.png</td>\n",
       "      <td>['Dragon']</td>\n",
       "      <td>3.99</td>\n",
       "      <td>16.5</td>\n",
       "      <td>Dratini Candy</td>\n",
       "      <td>100</td>\n",
       "      <td>0</td>\n",
       "      <td>0.0200</td>\n",
       "      <td>2</td>\n",
       "      <td>11:57</td>\n",
       "      <td>[2.05]</td>\n",
       "      <td>['Ice', 'Dragon', 'Fairy']</td>\n",
       "      <td>[{'num': '149', 'name': 'Dragonite'}]</td>\n",
       "      <td>[{'num': '147', 'name': 'Dratini'}]</td>\n",
       "    </tr>\n",
       "    <tr>\n",
       "      <th>148</th>\n",
       "      <td>149</td>\n",
       "      <td>149</td>\n",
       "      <td>Dragonite</td>\n",
       "      <td>http://www.serebii.net/pokemongo/pokemon/149.png</td>\n",
       "      <td>['Dragon', 'Flying']</td>\n",
       "      <td>2.21</td>\n",
       "      <td>210.0</td>\n",
       "      <td>Dratini Candy</td>\n",
       "      <td>0</td>\n",
       "      <td>0</td>\n",
       "      <td>0.0011</td>\n",
       "      <td>0</td>\n",
       "      <td>23:38</td>\n",
       "      <td>NaN</td>\n",
       "      <td>['Ice', 'Rock', 'Dragon', 'Fairy']</td>\n",
       "      <td>NaN</td>\n",
       "      <td>[{'num': '147', 'name': 'Dratini'}, {'num': '1...</td>\n",
       "    </tr>\n",
       "    <tr>\n",
       "      <th>149</th>\n",
       "      <td>150</td>\n",
       "      <td>150</td>\n",
       "      <td>Mewtwo</td>\n",
       "      <td>http://www.serebii.net/pokemongo/pokemon/150.png</td>\n",
       "      <td>['Psychic']</td>\n",
       "      <td>2.01</td>\n",
       "      <td>122.0</td>\n",
       "      <td>None</td>\n",
       "      <td>0</td>\n",
       "      <td>0</td>\n",
       "      <td>0.0000</td>\n",
       "      <td>0</td>\n",
       "      <td>NaN</td>\n",
       "      <td>NaN</td>\n",
       "      <td>['Bug', 'Ghost', 'Dark']</td>\n",
       "      <td>NaN</td>\n",
       "      <td>NaN</td>\n",
       "    </tr>\n",
       "    <tr>\n",
       "      <th>150</th>\n",
       "      <td>151</td>\n",
       "      <td>151</td>\n",
       "      <td>Mew</td>\n",
       "      <td>http://www.serebii.net/pokemongo/pokemon/151.png</td>\n",
       "      <td>['Psychic']</td>\n",
       "      <td>0.41</td>\n",
       "      <td>4.0</td>\n",
       "      <td>None</td>\n",
       "      <td>0</td>\n",
       "      <td>0</td>\n",
       "      <td>0.0000</td>\n",
       "      <td>0</td>\n",
       "      <td>NaN</td>\n",
       "      <td>NaN</td>\n",
       "      <td>['Bug', 'Ghost', 'Dark']</td>\n",
       "      <td>NaN</td>\n",
       "      <td>NaN</td>\n",
       "    </tr>\n",
       "  </tbody>\n",
       "</table>\n",
       "<p>65 rows × 17 columns</p>\n",
       "</div>"
      ],
      "text/plain": [
       "      id  num        name                                               img  \\\n",
       "1      2    2     Ivysaur  http://www.serebii.net/pokemongo/pokemon/002.png   \n",
       "2      3    3    Venusaur  http://www.serebii.net/pokemongo/pokemon/003.png   \n",
       "4      5    5  Charmeleon  http://www.serebii.net/pokemongo/pokemon/005.png   \n",
       "5      6    6   Charizard  http://www.serebii.net/pokemongo/pokemon/006.png   \n",
       "7      8    8   Wartortle  http://www.serebii.net/pokemongo/pokemon/008.png   \n",
       "..   ...  ...         ...                                               ...   \n",
       "145  146  146     Moltres  http://www.serebii.net/pokemongo/pokemon/146.png   \n",
       "147  148  148   Dragonair  http://www.serebii.net/pokemongo/pokemon/148.png   \n",
       "148  149  149   Dragonite  http://www.serebii.net/pokemongo/pokemon/149.png   \n",
       "149  150  150      Mewtwo  http://www.serebii.net/pokemongo/pokemon/150.png   \n",
       "150  151  151         Mew  http://www.serebii.net/pokemongo/pokemon/151.png   \n",
       "\n",
       "                     type  height  weight             candy  candy_count  egg  \\\n",
       "1     ['Grass', 'Poison']    0.99    13.0   Bulbasaur Candy          100    0   \n",
       "2     ['Grass', 'Poison']    2.01   100.0   Bulbasaur Candy            0    0   \n",
       "4                ['Fire']    1.09    19.0  Charmander Candy          100    0   \n",
       "5      ['Fire', 'Flying']    1.70    90.5  Charmander Candy            0    0   \n",
       "7               ['Water']    0.99    22.5    Squirtle Candy          100    0   \n",
       "..                    ...     ...     ...               ...          ...  ...   \n",
       "145    ['Fire', 'Flying']    2.01    60.0              None            0    0   \n",
       "147            ['Dragon']    3.99    16.5     Dratini Candy          100    0   \n",
       "148  ['Dragon', 'Flying']    2.21   210.0     Dratini Candy            0    0   \n",
       "149           ['Psychic']    2.01   122.0              None            0    0   \n",
       "150           ['Psychic']    0.41     4.0              None            0    0   \n",
       "\n",
       "     spawn_chance  avg_spawns spawn_time multipliers  \\\n",
       "1          0.0420           4      07:00  [1.2, 1.6]   \n",
       "2          0.0170           2      11:30         NaN   \n",
       "4          0.0120           1      19:00      [1.79]   \n",
       "5          0.0031           0      13:34         NaN   \n",
       "7          0.0340           3      07:02       [1.4]   \n",
       "..            ...         ...        ...         ...   \n",
       "145        0.0000           0        NaN         NaN   \n",
       "147        0.0200           2      11:57      [2.05]   \n",
       "148        0.0011           0      23:38         NaN   \n",
       "149        0.0000           0        NaN         NaN   \n",
       "150        0.0000           0        NaN         NaN   \n",
       "\n",
       "                               weaknesses  \\\n",
       "1    ['Fire', 'Ice', 'Flying', 'Psychic']   \n",
       "2    ['Fire', 'Ice', 'Flying', 'Psychic']   \n",
       "4             ['Water', 'Ground', 'Rock']   \n",
       "5           ['Water', 'Electric', 'Rock']   \n",
       "7                   ['Electric', 'Grass']   \n",
       "..                                    ...   \n",
       "145         ['Water', 'Electric', 'Rock']   \n",
       "147            ['Ice', 'Dragon', 'Fairy']   \n",
       "148    ['Ice', 'Rock', 'Dragon', 'Fairy']   \n",
       "149              ['Bug', 'Ghost', 'Dark']   \n",
       "150              ['Bug', 'Ghost', 'Dark']   \n",
       "\n",
       "                            next_evolution  \\\n",
       "1     [{'num': '003', 'name': 'Venusaur'}]   \n",
       "2                                      NaN   \n",
       "4    [{'num': '006', 'name': 'Charizard'}]   \n",
       "5                                      NaN   \n",
       "7    [{'num': '009', 'name': 'Blastoise'}]   \n",
       "..                                     ...   \n",
       "145                                    NaN   \n",
       "147  [{'num': '149', 'name': 'Dragonite'}]   \n",
       "148                                    NaN   \n",
       "149                                    NaN   \n",
       "150                                    NaN   \n",
       "\n",
       "                                        prev_evolution  \n",
       "1                [{'num': '001', 'name': 'Bulbasaur'}]  \n",
       "2    [{'num': '001', 'name': 'Bulbasaur'}, {'num': ...  \n",
       "4               [{'num': '004', 'name': 'Charmander'}]  \n",
       "5    [{'num': '004', 'name': 'Charmander'}, {'num':...  \n",
       "7                 [{'num': '007', 'name': 'Squirtle'}]  \n",
       "..                                                 ...  \n",
       "145                                                NaN  \n",
       "147                [{'num': '147', 'name': 'Dratini'}]  \n",
       "148  [{'num': '147', 'name': 'Dratini'}, {'num': '1...  \n",
       "149                                                NaN  \n",
       "150                                                NaN  \n",
       "\n",
       "[65 rows x 17 columns]"
      ]
     },
     "execution_count": 53,
     "metadata": {},
     "output_type": "execute_result"
    }
   ],
   "source": [
    "spawn_rate_threshold = 0.05\n",
    "pokemons_low_spawn_rate = pokem[pokem['spawn_chance'] < spawn_rate_threshold]\n",
    "pokemons_low_spawn_rate"
   ]
  },
  {
   "cell_type": "code",
   "execution_count": 54,
   "metadata": {},
   "outputs": [
    {
     "data": {
      "image/png": "[encoded data removed]",
      "text/plain": [
       "<Figure size 576x360 with 1 Axes>"
      ]
     },
     "metadata": {
      "needs_background": "light"
     },
     "output_type": "display_data"
    }
   ],
   "source": [
    "plt.figure(figsize=(8, 5))\n",
    "plt.bar(['High Spawn Rate', 'Low Spawn Rate'], [len(data), len(pokemons_low_spawn_rate)])\n",
    "plt.xlabel('Spawn Rate')\n",
    "plt.ylabel('Number of Pokemons')\n",
    "plt.title('Pokemons by Spawn Rate')\n",
    "plt.show()"
   ]
  },
  {
   "cell_type": "markdown",
   "metadata": {},
   "source": [
    "#### ● Get all Pokemons that have less than 4 weaknesses"
   ]
  },
  {
   "cell_type": "code",
   "execution_count": 69,
   "metadata": {},
   "outputs": [],
   "source": [
    "# ans 2\n",
    "lst = []\n",
    "for x in pokem['weaknesses']:\n",
    "    x = ast.literal_eval(x)\n",
    "    if len(x)<4:\n",
    "        lst.append(x)"
   ]
  },
  {
   "cell_type": "code",
   "execution_count": 78,
   "metadata": {},
   "outputs": [
    {
     "name": "stdout",
     "output_type": "stream",
     "text": [
      "no. of pokemons which are less than 4 weaknesses:  102\n",
      "Total pokems:  151\n"
     ]
    },
    {
     "data": {
      "image/png": "[encoded data removed]",
      "text/plain": [
       "<Figure size 432x288 with 1 Axes>"
      ]
     },
     "metadata": {
      "needs_background": "light"
     },
     "output_type": "display_data"
    }
   ],
   "source": [
    "print('no. of pokemons which are less than 4 weaknesses: ', len(lst))\n",
    "print('Total pokems: ',len(pokem))\n",
    "plt.grid()\n",
    "plt.bar(['total pokem','pokem<4'],[len(pokem),len(lst)])\n",
    "plt.show()"
   ]
  },
  {
   "cell_type": "markdown",
   "metadata": {},
   "source": [
    "#### ● Get all Pokemons that have no multipliers at all"
   ]
  },
  {
   "cell_type": "code",
   "execution_count": 79,
   "metadata": {},
   "outputs": [],
   "source": [
    "null_multipliers = pokem[pokem['multipliers'].isnull()]\n",
    "non_null_multipliers = pokem[~pokem['multipliers'].isnull()]"
   ]
  },
  {
   "cell_type": "code",
   "execution_count": 80,
   "metadata": {},
   "outputs": [
    {
     "data": {
      "text/html": [
       "<div>\n",
       "<style scoped>\n",
       "    .dataframe tbody tr th:only-of-type {\n",
       "        vertical-align: middle;\n",
       "    }\n",
       "\n",
       "    .dataframe tbody tr th {\n",
       "        vertical-align: top;\n",
       "    }\n",
       "\n",
       "    .dataframe thead th {\n",
       "        text-align: right;\n",
       "    }\n",
       "</style>\n",
       "<table border=\"1\" class=\"dataframe\">\n",
       "  <thead>\n",
       "    <tr style=\"text-align: right;\">\n",
       "      <th></th>\n",
       "      <th>id</th>\n",
       "      <th>num</th>\n",
       "      <th>name</th>\n",
       "      <th>img</th>\n",
       "      <th>type</th>\n",
       "      <th>height</th>\n",
       "      <th>weight</th>\n",
       "      <th>candy</th>\n",
       "      <th>candy_count</th>\n",
       "      <th>egg</th>\n",
       "      <th>spawn_chance</th>\n",
       "      <th>avg_spawns</th>\n",
       "      <th>spawn_time</th>\n",
       "      <th>multipliers</th>\n",
       "      <th>weaknesses</th>\n",
       "      <th>next_evolution</th>\n",
       "      <th>prev_evolution</th>\n",
       "    </tr>\n",
       "  </thead>\n",
       "  <tbody>\n",
       "    <tr>\n",
       "      <th>0</th>\n",
       "      <td>1</td>\n",
       "      <td>1</td>\n",
       "      <td>Bulbasaur</td>\n",
       "      <td>http://www.serebii.net/pokemongo/pokemon/001.png</td>\n",
       "      <td>['Grass', 'Poison']</td>\n",
       "      <td>0.71</td>\n",
       "      <td>6.9</td>\n",
       "      <td>Bulbasaur Candy</td>\n",
       "      <td>25</td>\n",
       "      <td>2</td>\n",
       "      <td>0.690</td>\n",
       "      <td>69</td>\n",
       "      <td>20:00</td>\n",
       "      <td>[1.58]</td>\n",
       "      <td>['Fire', 'Ice', 'Flying', 'Psychic']</td>\n",
       "      <td>[{'num': '002', 'name': 'Ivysaur'}, {'num': '0...</td>\n",
       "      <td>NaN</td>\n",
       "    </tr>\n",
       "    <tr>\n",
       "      <th>1</th>\n",
       "      <td>2</td>\n",
       "      <td>2</td>\n",
       "      <td>Ivysaur</td>\n",
       "      <td>http://www.serebii.net/pokemongo/pokemon/002.png</td>\n",
       "      <td>['Grass', 'Poison']</td>\n",
       "      <td>0.99</td>\n",
       "      <td>13.0</td>\n",
       "      <td>Bulbasaur Candy</td>\n",
       "      <td>100</td>\n",
       "      <td>0</td>\n",
       "      <td>0.042</td>\n",
       "      <td>4</td>\n",
       "      <td>07:00</td>\n",
       "      <td>[1.2, 1.6]</td>\n",
       "      <td>['Fire', 'Ice', 'Flying', 'Psychic']</td>\n",
       "      <td>[{'num': '003', 'name': 'Venusaur'}]</td>\n",
       "      <td>[{'num': '001', 'name': 'Bulbasaur'}]</td>\n",
       "    </tr>\n",
       "    <tr>\n",
       "      <th>3</th>\n",
       "      <td>4</td>\n",
       "      <td>4</td>\n",
       "      <td>Charmander</td>\n",
       "      <td>http://www.serebii.net/pokemongo/pokemon/004.png</td>\n",
       "      <td>['Fire']</td>\n",
       "      <td>0.61</td>\n",
       "      <td>8.5</td>\n",
       "      <td>Charmander Candy</td>\n",
       "      <td>25</td>\n",
       "      <td>2</td>\n",
       "      <td>0.253</td>\n",
       "      <td>25</td>\n",
       "      <td>08:45</td>\n",
       "      <td>[1.65]</td>\n",
       "      <td>['Water', 'Ground', 'Rock']</td>\n",
       "      <td>[{'num': '005', 'name': 'Charmeleon'}, {'num':...</td>\n",
       "      <td>NaN</td>\n",
       "    </tr>\n",
       "  </tbody>\n",
       "</table>\n",
       "</div>"
      ],
      "text/plain": [
       "   id  num        name                                               img  \\\n",
       "0   1    1   Bulbasaur  http://www.serebii.net/pokemongo/pokemon/001.png   \n",
       "1   2    2     Ivysaur  http://www.serebii.net/pokemongo/pokemon/002.png   \n",
       "3   4    4  Charmander  http://www.serebii.net/pokemongo/pokemon/004.png   \n",
       "\n",
       "                  type  height  weight             candy  candy_count  egg  \\\n",
       "0  ['Grass', 'Poison']    0.71     6.9   Bulbasaur Candy           25    2   \n",
       "1  ['Grass', 'Poison']    0.99    13.0   Bulbasaur Candy          100    0   \n",
       "3             ['Fire']    0.61     8.5  Charmander Candy           25    2   \n",
       "\n",
       "   spawn_chance  avg_spawns spawn_time multipliers  \\\n",
       "0         0.690          69      20:00      [1.58]   \n",
       "1         0.042           4      07:00  [1.2, 1.6]   \n",
       "3         0.253          25      08:45      [1.65]   \n",
       "\n",
       "                             weaknesses  \\\n",
       "0  ['Fire', 'Ice', 'Flying', 'Psychic']   \n",
       "1  ['Fire', 'Ice', 'Flying', 'Psychic']   \n",
       "3           ['Water', 'Ground', 'Rock']   \n",
       "\n",
       "                                      next_evolution  \\\n",
       "0  [{'num': '002', 'name': 'Ivysaur'}, {'num': '0...   \n",
       "1               [{'num': '003', 'name': 'Venusaur'}]   \n",
       "3  [{'num': '005', 'name': 'Charmeleon'}, {'num':...   \n",
       "\n",
       "                          prev_evolution  \n",
       "0                                    NaN  \n",
       "1  [{'num': '001', 'name': 'Bulbasaur'}]  \n",
       "3                                    NaN  "
      ]
     },
     "execution_count": 80,
     "metadata": {},
     "output_type": "execute_result"
    }
   ],
   "source": [
    "non_null_multipliers.head(3)"
   ]
  },
  {
   "cell_type": "code",
   "execution_count": 83,
   "metadata": {},
   "outputs": [
    {
     "name": "stdout",
     "output_type": "stream",
     "text": [
      "no. of non_null_multipliers:  70\n",
      "null_multipliers:  81\n"
     ]
    },
    {
     "data": {
      "text/plain": [
       "<BarContainer object of 2 artists>"
      ]
     },
     "execution_count": 83,
     "metadata": {},
     "output_type": "execute_result"
    },
    {
     "data": {
      "image/png": "[encoded data removed]",
      "text/plain": [
       "<Figure size 432x288 with 1 Axes>"
      ]
     },
     "metadata": {
      "needs_background": "light"
     },
     "output_type": "display_data"
    }
   ],
   "source": [
    "print('no. of non_null_multipliers: ', len(non_null_multipliers))\n",
    "print('null_multipliers: ',len(null_multipliers))\n",
    "plt.grid()\n",
    "plt.bar(['non_null_multipliers','null_multipliers'],[len(non_null_multipliers),len(null_multipliers)])\n"
   ]
  },
  {
   "cell_type": "markdown",
   "metadata": {},
   "source": [
    "#### ● Get all Pokemons that do not have more than 2 evolutions"
   ]
  },
  {
   "cell_type": "code",
   "execution_count": 84,
   "metadata": {},
   "outputs": [
    {
     "data": {
      "text/plain": [
       "0      [{'num': '002', 'name': 'Ivysaur'}, {'num': '0...\n",
       "1                   [{'num': '003', 'name': 'Venusaur'}]\n",
       "2                                                    NaN\n",
       "3      [{'num': '005', 'name': 'Charmeleon'}, {'num':...\n",
       "4                  [{'num': '006', 'name': 'Charizard'}]\n",
       "                             ...                        \n",
       "146    [{'num': '148', 'name': 'Dragonair'}, {'num': ...\n",
       "147                [{'num': '149', 'name': 'Dragonite'}]\n",
       "148                                                  NaN\n",
       "149                                                  NaN\n",
       "150                                                  NaN\n",
       "Name: next_evolution, Length: 151, dtype: object"
      ]
     },
     "execution_count": 84,
     "metadata": {},
     "output_type": "execute_result"
    }
   ],
   "source": [
    "pokem[\"next_evolution\"]"
   ]
  },
  {
   "cell_type": "code",
   "execution_count": 85,
   "metadata": {},
   "outputs": [
    {
     "data": {
      "text/plain": [
       "pandas.core.series.Series"
      ]
     },
     "execution_count": 85,
     "metadata": {},
     "output_type": "execute_result"
    }
   ],
   "source": [
    "type(pokem['next_evolution'])"
   ]
  },
  {
   "cell_type": "code",
   "execution_count": 86,
   "metadata": {},
   "outputs": [
    {
     "data": {
      "text/plain": [
       "str"
      ]
     },
     "execution_count": 86,
     "metadata": {},
     "output_type": "execute_result"
    }
   ],
   "source": [
    "type(pokem['next_evolution'][0])"
   ]
  },
  {
   "cell_type": "code",
   "execution_count": 89,
   "metadata": {},
   "outputs": [],
   "source": [
    "a = '[]'\n",
    "pokem['next_evolution'].fillna(a,inplace=True)\n",
    "pokem['prev_evolution'].fillna(a,inplace=True)\n",
    "\n",
    "lst = []\n",
    "for i in pokem['next_evolution']:\n",
    "    x = ast.literal_eval(i)\n",
    "    y=len(x)\n",
    "    lst.append(y)\n",
    "    \n",
    "lst1 = []\n",
    "for i in pokem['prev_evolution']:\n",
    "    x = ast.literal_eval(i)\n",
    "    y=len(x)\n",
    "    lst1.append(y)"
   ]
  },
  {
   "cell_type": "code",
   "execution_count": 91,
   "metadata": {},
   "outputs": [],
   "source": [
    "pokem['NE']=lst\n",
    "pokem['PE']=lst1"
   ]
  },
  {
   "cell_type": "code",
   "execution_count": 93,
   "metadata": {},
   "outputs": [],
   "source": [
    "pokem['TE']=pokem['NE']+pokem['PE']"
   ]
  },
  {
   "cell_type": "code",
   "execution_count": 99,
   "metadata": {},
   "outputs": [],
   "source": [
    "pokem.drop(['NE','PE'],axis=1,inplace=True)"
   ]
  },
  {
   "cell_type": "code",
   "execution_count": 107,
   "metadata": {},
   "outputs": [
    {
     "name": "stdout",
     "output_type": "stream",
     "text": [
      "151\n",
      "1\n"
     ]
    },
    {
     "data": {
      "text/plain": [
       "<BarContainer object of 2 artists>"
      ]
     },
     "execution_count": 107,
     "metadata": {},
     "output_type": "execute_result"
    },
    {
     "data": {
      "image/png": "[encoded data removed]",
      "text/plain": [
       "<Figure size 432x288 with 1 Axes>"
      ]
     },
     "metadata": {
      "needs_background": "light"
     },
     "output_type": "display_data"
    }
   ],
   "source": [
    "print(len(pokem))\n",
    "print(len(pokem[pokem['TE']>2]))\n",
    "plt.bar(['Total pokemon','Pokemon with Less than 2 evolution'],[len(pokem),len(pokem[pokem['TE']>2])])"
   ]
  },
  {
   "cell_type": "code",
   "execution_count": 21,
   "metadata": {},
   "outputs": [
    {
     "data": {
      "image/png": "[encoded data removed]",
      "text/plain": [
       "<Figure size 576x360 with 1 Axes>"
      ]
     },
     "metadata": {
      "needs_background": "light"
     },
     "output_type": "display_data"
    }
   ],
   "source": [
    "plt.figure(figsize=(8, 5))\n",
    "plt.bar(['Many Weaknesses', 'Few Weaknesses'], [len(data), len(null_multipliers)])\n",
    "plt.xlabel('Weaknesses')\n",
    "plt.ylabel('Number of Pokemons')\n",
    "plt.title('Pokemons by Weaknesses')\n",
    "plt.show()"
   ]
  },
  {
   "cell_type": "markdown",
   "metadata": {},
   "source": [
    "#### ● Get all Pokemons whose spawn time is less than 300 seconds. Note - spawn time format is \"05:32”, so assume “minute: second” format and perform the analysis."
   ]
  },
  {
   "cell_type": "code",
   "execution_count": 108,
   "metadata": {},
   "outputs": [
    {
     "data": {
      "text/plain": [
       "0       20\n",
       "1       07\n",
       "2       11\n",
       "3       08\n",
       "4       19\n",
       "      ... \n",
       "146     06\n",
       "147     11\n",
       "148     23\n",
       "149    NaN\n",
       "150    NaN\n",
       "Name: spawn_time, Length: 151, dtype: object"
      ]
     },
     "execution_count": 108,
     "metadata": {},
     "output_type": "execute_result"
    }
   ],
   "source": [
    "pokem['spawn_time'].str.split(':').str[0]"
   ]
  },
  {
   "cell_type": "code",
   "execution_count": 109,
   "metadata": {},
   "outputs": [],
   "source": [
    "pokem['mins'] = pokem['spawn_time'].str.split(':').str[0]\n",
    "pokem['mins'].fillna(0,inplace=True)\n",
    "pokem['mins'] = pokem['mins'].astype(int)\n",
    "pokem['mins'] = pokem['mins']*60"
   ]
  },
  {
   "cell_type": "code",
   "execution_count": 110,
   "metadata": {},
   "outputs": [],
   "source": [
    "pokem['secs'] = pokem['spawn_time'].str.split(':').str[1]\n",
    "pokem['secs'].fillna(0,inplace=True)\n",
    "pokem['secs'] = pokem['secs'].astype(int)\n",
    "pokem['spawn_time(secs)'] = pokem['mins']+pokem['secs']\n",
    "pokem.drop(['mins','secs'],axis=1,inplace=True)"
   ]
  },
  {
   "cell_type": "code",
   "execution_count": 111,
   "metadata": {},
   "outputs": [],
   "source": [
    "less_time = pokem[pokem['spawn_time(secs)']<300]\n"
   ]
  },
  {
   "cell_type": "code",
   "execution_count": 114,
   "metadata": {},
   "outputs": [
    {
     "data": {
      "image/png": "[encoded data removed]",
      "text/plain": [
       "<Figure size 432x288 with 1 Axes>"
      ]
     },
     "metadata": {
      "needs_background": "light"
     },
     "output_type": "display_data"
    }
   ],
   "source": [
    "plt.grid()\n",
    "plt.bar(['Total pokemon',' spawn with Less Than 300 Seconds Spawn time'],[len(pokem),len(less_time)])\n",
    "plt.show()"
   ]
  },
  {
   "cell_type": "code",
   "execution_count": null,
   "metadata": {},
   "outputs": [],
   "source": []
  }
 ],
 "metadata": {
  "kernelspec": {
   "display_name": "Python 3",
   "language": "python",
   "name": "python3"
  },
  "language_info": {
   "codemirror_mode": {
    "name": "ipython",
    "version": 3
   },
   "file_extension": ".py",
   "mimetype": "text/x-python",
   "name": "python",
   "nbconvert_exporter": "python",
   "pygments_lexer": "ipython3",
   "version": "3.8.3"
  },
  "vscode": {
   "interpreter": {
    "hash": "3c06e3e46abf38078fe4dac36a0085ec2b134ebbd73dd076183d243eeca6918f"
   }
  }
 },
 "nbformat": 4,
 "nbformat_minor": 2
}
