{
 "cells": [
  {
   "cell_type": "code",
   "execution_count": 2,
   "metadata": {},
   "outputs": [],
   "source": [
    "# Question 1: -\n",
    "# Write a program that takes a string as input, and counts the frequency of each word in the string, \n",
    "# there might\n",
    "# be repeated characters in the string. Your task is to find the highest frequency and \n",
    "# returns the length of the\n",
    "# highest-frequency word.\n",
    "\n",
    "\n",
    "# Note - You have to write at least 2 additional test cases in which your program will run\n",
    "# successfully and provide\n",
    "# an explanation for the same.\n",
    "# Example input - string = “write write write all the number from from from 1 to 100”\n",
    "# Example output - 5\n",
    "# Explanation - From the given string we can note that the most frequent words are “write” and\n",
    "# “from” and\n",
    "# the maximum value of both the values is “write” and its corresponding length is 5"
   ]
  },
  {
   "cell_type": "code",
   "execution_count": 25,
   "metadata": {},
   "outputs": [],
   "source": [
    "# First  of all We're creating a function which takes a string as input.\n",
    "def get_len_of_most_freq(string):\n",
    "    words = string.split() # To iterate string word by word instead of characters\n",
    "    \n",
    "    #creating a empty list to contain words with corresponding frequency.\n",
    "    freq_words = {} \n",
    "    \n",
    "    for wrd in words:\n",
    "        freq_words[wrd] = freq_words.get(wrd,0)+1\n",
    "        # We are fetching dictionary by providing it the key as wrd and frequency as value.\n",
    "        \n",
    "    max_freq = max(freq_words.values())\n",
    "#     max_freq_word1 = [word for word,freq in freq_words.items() if freq == max_freq ]\n",
    "#     print(max_freq_word1)\n",
    "\n",
    "    max_freq_word = next(iter([word for word,freq in freq_words.items() if freq == max_freq ]))\n",
    "    \n",
    "    print(f\"The most Frequent word is : '{max_freq_word}'.\")\n",
    "\n",
    "    return f\"The length of the max frequent word is : {len(max_freq_word) if max_freq_word else 0}\"\n",
    "    \n",
    "        \n",
    "    \n"
   ]
  },
  {
   "cell_type": "code",
   "execution_count": 26,
   "metadata": {},
   "outputs": [
    {
     "name": "stdout",
     "output_type": "stream",
     "text": [
      "The most Frequent word is : 'write'.\n"
     ]
    },
    {
     "data": {
      "text/plain": [
       "'The length of the max frequent word is : 5'"
      ]
     },
     "execution_count": 26,
     "metadata": {},
     "output_type": "execute_result"
    }
   ],
   "source": [
    "get_len_of_most_freq('write write write all the from from from 1 to 100')"
   ]
  },
  {
   "cell_type": "code",
   "execution_count": 27,
   "metadata": {},
   "outputs": [
    {
     "name": "stdout",
     "output_type": "stream",
     "text": [
      "The most Frequent word is : 'to'.\n"
     ]
    },
    {
     "data": {
      "text/plain": [
       "'The length of the max frequent word is : 2'"
      ]
     },
     "execution_count": 27,
     "metadata": {},
     "output_type": "execute_result"
    }
   ],
   "source": [
    "get_len_of_most_freq('to to write write write all the from from from 1 to 100')"
   ]
  },
  {
   "cell_type": "code",
   "execution_count": 28,
   "metadata": {},
   "outputs": [
    {
     "name": "stdout",
     "output_type": "stream",
     "text": [
      "The most Frequent word is : 'word'.\n"
     ]
    },
    {
     "data": {
      "text/plain": [
       "'The length of the max frequent word is : 4'"
      ]
     },
     "execution_count": 28,
     "metadata": {},
     "output_type": "execute_result"
    }
   ],
   "source": [
    "get_len_of_most_freq('We are looking looking looking looking for the length of the word word word word word word which is most frequent')"
   ]
  },
  {
   "cell_type": "code",
   "execution_count": 45,
   "metadata": {},
   "outputs": [
    {
     "name": "stdout",
     "output_type": "stream",
     "text": [
      "The most Frequent word is : write\n"
     ]
    },
    {
     "data": {
      "text/plain": [
       "'The length of the max frequent word is : 5'"
      ]
     },
     "execution_count": 45,
     "metadata": {},
     "output_type": "execute_result"
    }
   ],
   "source": [
    "from collections import Counter \n",
    "def len_most_freq_wrd(s):\n",
    "    words = s.split()\n",
    "    counter = Counter(words)\n",
    "    c = counter.most_common(1)[0][0]\n",
    "    print(f'The most Frequent word is : {c}')\n",
    "    length = len(c)\n",
    "    return f\"The length of the max frequent word is : {length}\"\n",
    "    \n",
    "    \n",
    "len_most_freq_wrd('write write write all the from from from 1 to 100')"
   ]
  },
  {
   "cell_type": "code",
   "execution_count": 46,
   "metadata": {},
   "outputs": [
    {
     "name": "stdout",
     "output_type": "stream",
     "text": [
      "The most Frequent word is : word\n"
     ]
    },
    {
     "data": {
      "text/plain": [
       "'The length of the max frequent word is : 4'"
      ]
     },
     "execution_count": 46,
     "metadata": {},
     "output_type": "execute_result"
    }
   ],
   "source": [
    "len_most_freq_wrd('We are looking looking looking looking for the length of the word word word word word word which is most frequent')"
   ]
  },
  {
   "cell_type": "code",
   "execution_count": null,
   "metadata": {},
   "outputs": [],
   "source": []
  }
 ],
 "metadata": {
  "kernelspec": {
   "display_name": "Python 3",
   "language": "python",
   "name": "python3"
  },
  "language_info": {
   "codemirror_mode": {
    "name": "ipython",
    "version": 3
   },
   "file_extension": ".py",
   "mimetype": "text/x-python",
   "name": "python",
   "nbconvert_exporter": "python",
   "pygments_lexer": "ipython3",
   "version": "3.8.3"
  }
 },
 "nbformat": 4,
 "nbformat_minor": 4
}
